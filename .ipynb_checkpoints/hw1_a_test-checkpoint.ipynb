{
 "cells": [
  {
   "cell_type": "code",
   "execution_count": 37,
   "metadata": {
    "collapsed": false
   },
   "outputs": [],
   "source": [
    "import os\n",
    "from PIL import Image\n",
    "from __future__ import print_function\n",
    "import numpy as np\n",
    "import numpy.linalg as linalg\n",
    "import theano.tensor as T\n",
    "import theano\n",
    "import matplotlib as mpl\n",
    "import matplotlib.pyplot as plt\n",
    "import matplotlib.cm as cm\n",
    "mpl.use('Agg')\n",
    "filepath='Fei_256/'\n",
    "names=sorted(os.listdir(filepath))\n",
    "f=mpl.pyplot.imread(filepath+names[0]).reshape((1,256,256))\n",
    "Ims=np.array(f,dtype=np.uint8)\n",
    "for i in range(1,len(names)):\n",
    "    f=mpl.pyplot.imread(filepath+names[i]).reshape(1,256,256)\n",
    "    Ims=np.append(Ims,f,axis=0)"
   ]
  },
  {
   "cell_type": "code",
   "execution_count": 38,
   "metadata": {
    "collapsed": false
   },
   "outputs": [],
   "source": [
    "no_images=Ims.shape[0]\n",
    "sz=8\n",
    "n_blocks_in_image=256*256/(sz*sz)\n",
    "\n",
    "X=np.zeros((no_images*n_blocks_in_image,sz*sz),dtype=np.uint8)\n",
    "index=0\n",
    "for i in range(no_images):\n",
    "    for j in range(0,Ims.shape[1]/sz):\n",
    "        for k in range(0,Ims.shape[2]/sz):\n",
    "            temp=Ims[i,sz*j:sz*(j+1),sz*k:sz*(k+1)].reshape((1,sz*sz))\n",
    "            X[index,:]=temp\n",
    "            index=index+1"
   ]
  },
  {
   "cell_type": "code",
   "execution_count": 46,
   "metadata": {
    "collapsed": false
   },
   "outputs": [],
   "source": [
    "X_mean=np.mean(X,0)\n",
    "X=X-np.repeat(X_mean.reshape(1,-1),X.shape[0],0)\n",
    "egval,egvec=linalg.eigh(np.dot(X.T,X))\n",
    "D=np.zeros((64,64),dtype=np.float32)\n",
    "for i in range(sz*sz):\n",
    "    D[:,i]=egvec[:,sz*sz-1-i]\n",
    "    \n",
    "c=np.dot(D.T,X.T)"
   ]
  },
  {
   "cell_type": "code",
   "execution_count": 47,
   "metadata": {
    "collapsed": false
   },
   "outputs": [
    {
     "data": {
      "text/plain": [
       "array([ 0.06674311,  0.00665896,  0.05472151, -0.0144046 , -0.03246972,\n",
       "        0.08081217,  0.00455332, -0.02540232, -0.0030771 , -0.11592175,\n",
       "        0.05918596,  0.04472133, -0.02225378,  0.03882399, -0.08391616,\n",
       "        0.17373981,  0.04197707, -0.00998126, -0.04500706, -0.05941197,\n",
       "       -0.02989933,  0.0752834 , -0.05768117, -0.07703669, -0.05523412,\n",
       "        0.09742583,  0.03015232, -0.04812212,  0.10860609, -0.13701784,\n",
       "        0.0845856 , -0.04884529, -0.13501325, -0.10674273,  0.15842907,\n",
       "       -0.19172332,  0.06222261, -0.13403795, -0.08425109,  0.08677551,\n",
       "       -0.16275598,  0.19788078, -0.20764072, -0.04687541,  0.09836671,\n",
       "       -0.16843709,  0.07785342, -0.1376271 ,  0.30381149,  0.02088299,\n",
       "       -0.1094392 , -0.0051928 ,  0.22703437, -0.29957375, -0.00832283,\n",
       "        0.03080912, -0.12365919,  0.33279882,  0.0607188 , -0.19421289,\n",
       "        0.24275926,  0.14725604, -0.18798095,  0.11975804])"
      ]
     },
     "execution_count": 47,
     "metadata": {},
     "output_type": "execute_result"
    }
   ],
   "source": [
    "D"
   ]
  },
  {
   "cell_type": "code",
   "execution_count": 17,
   "metadata": {
    "collapsed": false
   },
   "outputs": [],
   "source": [
    "c_im=c[:16,0:1024]\n",
    "D_im=D[:,:16]\n",
    "image_matrix=np.zeros((256,256),dtype=np.float32)\n",
    "for row in range(256/sz):\n",
    "    for col in range(256/sz):\n",
    "        block=np.dot(D_im,c_im[:,row*(256/sz)+col]).reshape(sz,sz)+X_mean.reshape(sz,sz)\n",
    "        image_matrix[row*sz:(row+1)*sz, col*sz:(col+1)*sz]=block"
   ]
  }
 ],
 "metadata": {
  "kernelspec": {
   "display_name": "Python 2",
   "language": "python",
   "name": "python2"
  },
  "language_info": {
   "codemirror_mode": {
    "name": "ipython",
    "version": 2
   },
   "file_extension": ".py",
   "mimetype": "text/x-python",
   "name": "python",
   "nbconvert_exporter": "python",
   "pygments_lexer": "ipython2",
   "version": "2.7.11"
  }
 },
 "nbformat": 4,
 "nbformat_minor": 0
}
