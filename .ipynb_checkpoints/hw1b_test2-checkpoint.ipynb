{
 "cells": [
  {
   "cell_type": "code",
   "execution_count": 2,
   "metadata": {
    "collapsed": false
   },
   "outputs": [
    {
     "name": "stderr",
     "output_type": "stream",
     "text": [
      "Using gpu device 0: GRID K520\n"
     ]
    }
   ],
   "source": [
    "import os\n",
    "from os import walk\n",
    "import numpy as np\n",
    "import matplotlib as mpl\n",
    "mpl.use('Agg')\n",
    "import matplotlib.pyplot as plt\n",
    "import matplotlib.cm as cm\n",
    "import numpy.linalg as linalg\n",
    "from theano import shared\n",
    "\n",
    "from PIL import Image\n",
    "\n",
    "import theano\n",
    "import theano.tensor as T"
   ]
  },
  {
   "cell_type": "code",
   "execution_count": 3,
   "metadata": {
    "collapsed": true
   },
   "outputs": [],
   "source": [
    "filepath = 'Fei_256/'\n",
    "names = sorted(os.listdir(filepath))\n",
    "f=mpl.pyplot.imread(filepath+names[0]).reshape((1,-1))\n",
    "Ims=np.array(f,dtype=np.uint8)\n",
    "for i in range(1,len(names)):\n",
    "    f=mpl.pyplot.imread(filepath+names[i]).reshape((1,-1)) \n",
    "    Ims=np.append(Ims,f,axis=0)\n",
    "Ims = Ims.astype(np.float32)\n",
    "X_mn = np.mean(Ims, 0)\n",
    "X = Ims - np.repeat(X_mn.reshape(1, -1), Ims.shape[0], 0)"
   ]
  },
  {
   "cell_type": "code",
   "execution_count": 4,
   "metadata": {
    "collapsed": true
   },
   "outputs": [],
   "source": [
    "epsilon=1.e-05\n",
    "learn_rate=0.005\n",
    "count=0\n",
    "stop_iteration=2000\n",
    "D=np.zeros((65536,16),dtype=np.float32)\n",
    "L=np.zeros((16,16),dtype=np.float32)"
   ]
  },
  {
   "cell_type": "code",
   "execution_count": 5,
   "metadata": {
    "collapsed": true
   },
   "outputs": [],
   "source": [
    "d1=T.fvector('arg1')\n",
    "XX=T.fmatrix('arg2')\n",
    "XD=T.fmatrix('arg3')\n",
    "XL=T.fmatrix('arg4')\n",
    "mat_vec1=T.dot(XX,d1)"
   ]
  },
  {
   "cell_type": "code",
   "execution_count": 6,
   "metadata": {
    "collapsed": false
   },
   "outputs": [],
   "source": [
    "cost=-T.dot(mat_vec1.T,mat_vec1)\n",
    "temp1=T.dot(d1.T,XD)\n",
    "temp2=T.dot(temp1,XL)\n",
    "temp3=T.dot(temp2,temp1.T)\n",
    "grad=theano.gradient.grad(cost,d1)\n",
    "gradp1=theano.gradient.grad(-cost,d1)\n",
    "gradp2=theano.gradient.grad(temp3,d1)\n"
   ]
  },
  {
   "cell_type": "code",
   "execution_count": 7,
   "metadata": {
    "collapsed": true
   },
   "outputs": [],
   "source": [
    "calc_grad=theano.function([d1,XX],grad)\n",
    "calc_gradp1=theano.function([d1,XX],gradp1)\n",
    "calc_gradp2=theano.function([XD,XL,d1],gradp2)\n",
    "calc_L=theano.function([d1,XX],-cost)"
   ]
  },
  {
   "cell_type": "code",
   "execution_count": 8,
   "metadata": {
    "collapsed": true
   },
   "outputs": [],
   "source": [
    "old_d=np.random.randn(65536).astype(np.float32)\n",
    "old_d=old_d/linalg.norm(old_d)\n",
    "dervtv=calc_grad(old_d,X)\n",
    "dervtv=dervtv/linalg.norm(dervtv)"
   ]
  },
  {
   "cell_type": "code",
   "execution_count": 9,
   "metadata": {
    "collapsed": false
   },
   "outputs": [],
   "source": [
    "while count<stop_iteration:\n",
    "    new_d=old_d-dervtv*learn_rate\n",
    "    new_d=new_d/linalg.norm(new_d)\n",
    "    if linalg.norm(new_d-old_d)<epsilon:\n",
    "        break\n",
    "    dervtv=calc_grad(new_d,X)\n",
    "    dervtv=dervtv/linalg.norm(dervtv)\n",
    "    old_d=new_d\n",
    "    count=count+1\n",
    "L[0,0]=calc_L(new_d,X)\n",
    "D[:,0]=new_d"
   ]
  },
  {
   "cell_type": "code",
   "execution_count": 10,
   "metadata": {
    "collapsed": false
   },
   "outputs": [
    {
     "data": {
      "text/plain": [
       "array([ 0.00482053,  0.0045457 ,  0.00457936, ..., -0.00717714,\n",
       "       -0.00713299, -0.00708292], dtype=float32)"
      ]
     },
     "execution_count": 10,
     "metadata": {},
     "output_type": "execute_result"
    }
   ],
   "source": [
    "old_d"
   ]
  },
  {
   "cell_type": "code",
   "execution_count": 11,
   "metadata": {
    "collapsed": false
   },
   "outputs": [],
   "source": [
    "for i in range(1,16):\n",
    "    old_d=np.random.randn(65536).astype(np.float32)\n",
    "    old_d=old_d/linalg.norm(old_d)\n",
    "    count=0\n",
    "    known_d=D[:,:i];\n",
    "    known_l=L[:i,:i]\n",
    "\n",
    "    dervtv=-calc_gradp1(old_d,X)+calc_gradp2(known_d,known_l,old_d)\n",
    "    #dervtv=calc_gradp2(known_d,known_l,old_d)\n",
    "    dervtv=dervtv/linalg.norm(dervtv)\n",
    "\n",
    "    while count<stop_iteration:\n",
    "        new_d=old_d-dervtv*learn_rate\n",
    "        new_d=new_d/linalg.norm(new_d)\n",
    "        if linalg.norm(new_d-old_d)<epsilon:\n",
    "            break\n",
    "        dervtv=-calc_gradp1(old_d,X)+calc_gradp2(known_d,known_l,new_d)\n",
    "        dervtv=dervtv/linalg.norm(dervtv)\n",
    "        old_d=new_d\n",
    "        count=count+1\n",
    "    L[i,i]=calc_L(new_d,X)\n",
    "    D[:,i]=new_d"
   ]
  },
  {
   "cell_type": "code",
   "execution_count": 49,
   "metadata": {
    "collapsed": false
   },
   "outputs": [
    {
     "data": {
      "text/plain": [
       "array([[ 0.00481922,  0.0047353 , -0.02075863, ...,  0.        ,\n",
       "         0.        ,  0.        ],\n",
       "       [ 0.00455129,  0.00460677, -0.02110159, ...,  0.        ,\n",
       "         0.        ,  0.        ],\n",
       "       [ 0.0045887 ,  0.00475165, -0.02171876, ...,  0.        ,\n",
       "         0.        ,  0.        ],\n",
       "       ..., \n",
       "       [-0.00718651, -0.0037911 ,  0.00478394, ...,  0.        ,\n",
       "         0.        ,  0.        ],\n",
       "       [-0.00714669, -0.00375084,  0.00485818, ...,  0.        ,\n",
       "         0.        ,  0.        ],\n",
       "       [-0.00708014, -0.00370714,  0.00492617, ...,  0.        ,\n",
       "         0.        ,  0.        ]], dtype=float32)"
      ]
     },
     "execution_count": 49,
     "metadata": {},
     "output_type": "execute_result"
    }
   ],
   "source": [
    "D"
   ]
  },
  {
   "cell_type": "code",
   "execution_count": 14,
   "metadata": {
    "collapsed": true
   },
   "outputs": [],
   "source": [
    "testD=D[:,:0]\n",
    "c=np.dot(testD.T,X.T)\n",
    "data0=c[:,0]\n",
    "recon_data_0=np.dot(testD,data0)\n"
   ]
  },
  {
   "cell_type": "code",
   "execution_count": 16,
   "metadata": {
    "collapsed": false
   },
   "outputs": [],
   "source": [
    "image_data_0=recon_data_0.reshape(256,256)+X_mn.reshape(256,256)\n",
    "image_0=Image.fromarray(image_data_0)\n",
    "f,axrr=plt.subplots(2,2)\n",
    "plt.axes(axrr[0,0])\n",
    "plt.imshow(image_0)\n",
    "f.savefig('output2/test0_2.png')\n",
    "plt.close(f)"
   ]
  },
  {
   "cell_type": "code",
   "execution_count": 12,
   "metadata": {
    "collapsed": false
   },
   "outputs": [],
   "source": [
    "count=0\n",
    "f,axxr=plt.subplots(4,4)\n",
    "for i in range(4):\n",
    "    for j in range(4):\n",
    "        D_comp=D[:,i*4+j].reshape((256,256))\n",
    "        D_comp=255*(D_comp-np.min(D_comp))/(np.max(D_comp)-np.min(D_comp))\n",
    "        D_img=Image.fromarray(D_comp)\n",
    "        plt.axes(axxr[i,j])\n",
    "        plt.imshow(D_img)\n",
    "        count=count+1\n",
    "f.savefig('output2/16_2.png')\n",
    "plt.close(f)"
   ]
  },
  {
   "cell_type": "code",
   "execution_count": 2,
   "metadata": {
    "collapsed": false
   },
   "outputs": [
    {
     "ename": "NotImplementedError",
     "evalue": "",
     "output_type": "error",
     "traceback": [
      "\u001b[1;31m---------------------------------------------------------------------------\u001b[0m",
      "\u001b[1;31mNotImplementedError\u001b[0m                       Traceback (most recent call last)",
      "\u001b[1;32m/home/ubuntu/extern/HW1/hw1b_self.py\u001b[0m in \u001b[0;36m<module>\u001b[1;34m()\u001b[0m\n\u001b[0;32m    220\u001b[0m \u001b[1;33m\u001b[0m\u001b[0m\n\u001b[0;32m    221\u001b[0m \u001b[1;32mif\u001b[0m \u001b[0m__name__\u001b[0m \u001b[1;33m==\u001b[0m \u001b[1;34m'__main__'\u001b[0m\u001b[1;33m:\u001b[0m\u001b[1;33m\u001b[0m\u001b[0m\n\u001b[1;32m--> 222\u001b[1;33m     \u001b[0mmain\u001b[0m\u001b[1;33m(\u001b[0m\u001b[1;33m)\u001b[0m\u001b[1;33m\u001b[0m\u001b[0m\n\u001b[0m\u001b[0;32m    223\u001b[0m \u001b[1;33m\u001b[0m\u001b[0m\n\u001b[0;32m    224\u001b[0m \u001b[1;33m\u001b[0m\u001b[0m\n",
      "\u001b[1;32m/home/ubuntu/extern/HW1/hw1b_self.py\u001b[0m in \u001b[0;36mmain\u001b[1;34m()\u001b[0m\n\u001b[0;32m    216\u001b[0m         \u001b[0mplot_reconstructions\u001b[0m\u001b[1;33m(\u001b[0m\u001b[0mD\u001b[0m\u001b[1;33m=\u001b[0m\u001b[0mD\u001b[0m\u001b[1;33m,\u001b[0m \u001b[0mc\u001b[0m\u001b[1;33m=\u001b[0m\u001b[0mc\u001b[0m\u001b[1;33m,\u001b[0m \u001b[0mnum_coeff_array\u001b[0m\u001b[1;33m=\u001b[0m\u001b[1;33m[\u001b[0m\u001b[1;36m1\u001b[0m\u001b[1;33m,\u001b[0m \u001b[1;36m2\u001b[0m\u001b[1;33m,\u001b[0m \u001b[1;36m4\u001b[0m\u001b[1;33m,\u001b[0m \u001b[1;36m6\u001b[0m\u001b[1;33m,\u001b[0m \u001b[1;36m8\u001b[0m\u001b[1;33m,\u001b[0m \u001b[1;36m10\u001b[0m\u001b[1;33m,\u001b[0m \u001b[1;36m12\u001b[0m\u001b[1;33m,\u001b[0m \u001b[1;36m14\u001b[0m\u001b[1;33m,\u001b[0m \u001b[1;36m16\u001b[0m\u001b[1;33m]\u001b[0m\u001b[1;33m,\u001b[0m \u001b[0mX_mean\u001b[0m\u001b[1;33m=\u001b[0m\u001b[0mX_mn\u001b[0m\u001b[1;33m.\u001b[0m\u001b[0mreshape\u001b[0m\u001b[1;33m(\u001b[0m\u001b[1;33m(\u001b[0m\u001b[1;36m256\u001b[0m\u001b[1;33m,\u001b[0m \u001b[1;36m256\u001b[0m\u001b[1;33m)\u001b[0m\u001b[1;33m)\u001b[0m\u001b[1;33m,\u001b[0m \u001b[0mim_num\u001b[0m\u001b[1;33m=\u001b[0m\u001b[0mi\u001b[0m\u001b[1;33m)\u001b[0m\u001b[1;33m\u001b[0m\u001b[0m\n\u001b[0;32m    217\u001b[0m \u001b[1;33m\u001b[0m\u001b[0m\n\u001b[1;32m--> 218\u001b[1;33m     \u001b[0mplot_top_16\u001b[0m\u001b[1;33m(\u001b[0m\u001b[0mD\u001b[0m\u001b[1;33m,\u001b[0m \u001b[1;36m256\u001b[0m\u001b[1;33m,\u001b[0m \u001b[1;34m'output/hw1b_top16_256.png'\u001b[0m\u001b[1;33m)\u001b[0m\u001b[1;33m\u001b[0m\u001b[0m\n\u001b[0m\u001b[0;32m    219\u001b[0m \u001b[1;33m\u001b[0m\u001b[0m\n\u001b[0;32m    220\u001b[0m \u001b[1;33m\u001b[0m\u001b[0m\n",
      "\u001b[1;32m/home/ubuntu/extern/HW1/hw1b_self.py\u001b[0m in \u001b[0;36mplot_top_16\u001b[1;34m(D, sz, imname)\u001b[0m\n\u001b[0;32m    118\u001b[0m     \u001b[0mf\u001b[0m\u001b[1;33m.\u001b[0m\u001b[0msavefig\u001b[0m\u001b[1;33m(\u001b[0m\u001b[0mimname\u001b[0m\u001b[1;33m)\u001b[0m\u001b[1;33m\u001b[0m\u001b[0m\n\u001b[0;32m    119\u001b[0m     \u001b[0mplt\u001b[0m\u001b[1;33m.\u001b[0m\u001b[0mclose\u001b[0m\u001b[1;33m(\u001b[0m\u001b[0mf\u001b[0m\u001b[1;33m)\u001b[0m\u001b[1;33m\u001b[0m\u001b[0m\n\u001b[1;32m--> 120\u001b[1;33m     \u001b[1;32mraise\u001b[0m \u001b[0mNotImplementedError\u001b[0m\u001b[1;33m\u001b[0m\u001b[0m\n\u001b[0m\u001b[0;32m    121\u001b[0m \u001b[1;33m\u001b[0m\u001b[0m\n\u001b[0;32m    122\u001b[0m \u001b[1;33m\u001b[0m\u001b[0m\n",
      "\u001b[1;31mNotImplementedError\u001b[0m: "
     ]
    }
   ],
   "source": [
    "run hw1b_self.py"
   ]
  }
 ],
 "metadata": {
  "kernelspec": {
   "display_name": "Python 2",
   "language": "python",
   "name": "python2"
  },
  "language_info": {
   "codemirror_mode": {
    "name": "ipython",
    "version": 2
   },
   "file_extension": ".py",
   "mimetype": "text/x-python",
   "name": "python",
   "nbconvert_exporter": "python",
   "pygments_lexer": "ipython2",
   "version": "2.7.11"
  }
 },
 "nbformat": 4,
 "nbformat_minor": 0
}
