{
 "cells": [
  {
   "cell_type": "code",
   "execution_count": 48,
   "metadata": {
    "collapsed": false
   },
   "outputs": [],
   "source": [
    "import os\n",
    "from PIL import Image\n",
    "from __future__ import print_function\n",
    "import numpy as np\n",
    "import numpy.linalg as linalg\n",
    "import theano.tensor as T\n",
    "import theano\n",
    "import matplotlib as mpl\n",
    "import matplotlib.pyplot as plt\n",
    "import matplotlib.cm as cm\n",
    "mpl.use('Agg')\n",
    "filepath='Fei_256/'\n",
    "names=sorted(os.listdir(filepath))\n",
    "f=mpl.pyplot.imread(filepath+names[0]).reshape((1,256,256))\n",
    "Ims=np.array(f,dtype=np.uint8)\n",
    "for i in range(1,len(names)):\n",
    "    f=mpl.pyplot.imread(filepath+names[i]).reshape(1,256,256)\n",
    "    Ims=np.append(Ims,f,axis=0)"
   ]
  },
  {
   "cell_type": "code",
   "execution_count": 49,
   "metadata": {
    "collapsed": false
   },
   "outputs": [],
   "source": [
    "no_images=Ims.shape[0]\n",
    "sz=8\n",
    "n_blocks_in_image=256*256/(sz*sz)\n",
    "\n",
    "X=np.zeros((no_images*n_blocks_in_image,sz*sz),dtype=np.uint8)\n",
    "index=0\n",
    "for i in range(no_images):\n",
    "    for j in range(0,Ims.shape[1]/sz):\n",
    "        for k in range(0,Ims.shape[2]/sz):\n",
    "            temp=Ims[i,sz*j:sz*(j+1),sz*k:sz*(k+1)].reshape((1,sz*sz))\n",
    "            X[index,:]=temp\n",
    "            index=index+1"
   ]
  },
  {
   "cell_type": "code",
   "execution_count": 50,
   "metadata": {
    "collapsed": false
   },
   "outputs": [],
   "source": [
    "X_mean=np.mean(X,0)\n",
    "X=X-np.repeat(X_mean.reshape(1,-1),X.shape[0],0)\n",
    "egval,egvec=linalg.eigh(np.dot(X.T,X))\n",
    "D=np.zeros((64,64),dtype=np.float32)\n",
    "for i in range(sz*sz):\n",
    "    D[:,i]=egvec[:,sz*sz-1-i]\n",
    "    \n",
    "c=np.dot(D.T,X.T)"
   ]
  },
  {
   "cell_type": "code",
   "execution_count": 55,
   "metadata": {
    "collapsed": false
   },
   "outputs": [],
   "source": [
    "c_im=c[:16,0:1024]\n",
    "D_im=D[:,:16]\n",
    "image_matrix=np.zeros((256,256),dtype=np.float32)\n",
    "for row in range(256/sz):\n",
    "    for col in range(256/sz):\n",
    "        block=np.dot(D_im,c_im[:,row*(256/sz)+col]).reshape(sz,sz)+X_mean.reshape(sz,sz)\n",
    "        image_matrix[row*sz:(row+1)*sz, col*sz:(col+1)*sz]=block"
   ]
  },
  {
   "cell_type": "code",
   "execution_count": 61,
   "metadata": {
    "collapsed": false
   },
   "outputs": [
    {
     "data": {
      "text/plain": [
       "0.33335248"
      ]
     },
     "execution_count": 61,
     "metadata": {},
     "output_type": "execute_result"
    }
   ],
   "source": [
    "np.max(D)"
   ]
  }
 ],
 "metadata": {
  "kernelspec": {
   "display_name": "Python 2",
   "language": "python",
   "name": "python2"
  },
  "language_info": {
   "codemirror_mode": {
    "name": "ipython",
    "version": 2
   },
   "file_extension": ".py",
   "mimetype": "text/x-python",
   "name": "python",
   "nbconvert_exporter": "python",
   "pygments_lexer": "ipython2",
   "version": "2.7.11"
  }
 },
 "nbformat": 4,
 "nbformat_minor": 0
}
